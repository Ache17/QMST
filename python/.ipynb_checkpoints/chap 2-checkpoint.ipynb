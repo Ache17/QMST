{
 "cells": [
  {
   "cell_type": "code",
   "execution_count": 8,
   "metadata": {},
   "outputs": [],
   "source": [
    "import numpy as np\n",
    "import plotly.graph_objects as go\n",
    "import scipy as sp\n",
    "from scipy.optimize import fsolve"
   ]
  },
  {
   "cell_type": "markdown",
   "metadata": {},
   "source": [
    "## problem 6"
   ]
  },
  {
   "cell_type": "code",
   "execution_count": 14,
   "metadata": {},
   "outputs": [],
   "source": [
    "beta = 0.89305\n",
    "re   = 7.1053\n",
    "De   = 4.456 * 1e-4\n",
    "b    = 0\n",
    "E    = 0.006\n",
    "\n",
    "def Vmorse(r : np.double):\n",
    "    return De * (np.exp(-2. * beta * (r - re)) - 2 * np.exp(-beta * (r - re)))\n",
    "\n",
    "def term(r):\n",
    "    return 1 - b * b / (r * r) - Vmorse(r) / E\n",
    "\n"
   ]
  },
  {
   "cell_type": "code",
   "execution_count": 15,
   "metadata": {},
   "outputs": [
    {
     "data": {
      "text/plain": [
       "array([5.34806306])"
      ]
     },
     "execution_count": 15,
     "metadata": {},
     "output_type": "execute_result"
    }
   ],
   "source": [
    "fsolve(term, 5)"
   ]
  },
  {
   "cell_type": "markdown",
   "metadata": {},
   "source": [
    "### debug \n",
    "let's assume that b = 0, E is arbirary real value\n",
    "$$ 1 - \\frac{V(r)}{E} = 0 $$<br>\n",
    "$$ 1 = \\frac{V(r)}{E} $$<br>\n",
    "$$ E = V(r) $$<br>\n",
    "Morse potential is calculated with formula below\n",
    "$$ V(r) = D_{e} (exp(-2 \\beta (r - r_{e})) - 2 exp(-\\beta (r - r_{e}))) $$\n",
    "Plugging in Morse formula\n",
    "$$ E =  D_{e} (exp(-2 \\beta (r - r_{e})) - 2 exp(-\\beta (r - r_{e}))) $$"
   ]
  }
 ],
 "metadata": {
  "kernelspec": {
   "display_name": "Python 3",
   "language": "python",
   "name": "python3"
  },
  "language_info": {
   "codemirror_mode": {
    "name": "ipython",
    "version": 3
   },
   "file_extension": ".py",
   "mimetype": "text/x-python",
   "name": "python",
   "nbconvert_exporter": "python",
   "pygments_lexer": "ipython3",
   "version": "3.7.6"
  }
 },
 "nbformat": 4,
 "nbformat_minor": 4
}
